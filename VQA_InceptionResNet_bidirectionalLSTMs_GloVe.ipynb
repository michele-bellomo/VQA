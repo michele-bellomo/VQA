{
 "cells": [
  {
   "cell_type": "markdown",
   "metadata": {},
   "source": [
    "# VQA using InceptionResNet, bidirectional LSTM's blocks and <br> GloVe embedding"
   ]
  },
  {
   "cell_type": "code",
   "execution_count": null,
   "metadata": {
    "id": "FiLwi7HcT6Zm"
   },
   "outputs": [],
   "source": [
    "# option to view all the outputs of a cell and not just the last one\n",
    "from IPython.core.interactiveshell import InteractiveShell\n",
    "InteractiveShell.ast_node_interactivity = \"all\""
   ]
  },
  {
   "cell_type": "code",
   "execution_count": null,
   "metadata": {
    "id": "KJqHEF3eT6Zn"
   },
   "outputs": [],
   "source": [
    "# import the required libraries\n",
    "import os\n",
    "import tensorflow as tf\n",
    "import numpy as np\n",
    "import pandas as pd\n",
    "\n",
    "import PIL.Image\n",
    "\n",
    "# Set the seed for random operations. \n",
    "# This let our experiments to be reproducible. \n",
    "SEED = 1234\n",
    "tf.random.set_seed(SEED)\n",
    "np.random.seed(SEED)\n",
    "\n",
    "# Get current working directory\n",
    "cwd = os.getcwd()"
   ]
  },
  {
   "cell_type": "code",
   "execution_count": null,
   "metadata": {
    "colab": {
     "base_uri": "https://localhost:8080/"
    },
    "executionInfo": {
     "elapsed": 24631,
     "status": "ok",
     "timestamp": 1611312843386,
     "user": {
      "displayName": "Michele Bellomo",
      "photoUrl": "https://lh3.googleusercontent.com/a-/AOh14GhqEVViCWVD-iaTARN3gEA3KLZiRpDkXrCuC_Q1=s64",
      "userId": "00831375262492985479"
     },
     "user_tz": -60
    },
    "id": "41UUNZOHWyfX",
    "outputId": "febe82a3-56ef-43a2-da74-cd8901c2fdd6"
   },
   "outputs": [
    {
     "name": "stdout",
     "output_type": "stream",
     "text": [
      "Mounted at /content/drive/\n"
     ]
    }
   ],
   "source": [
    "# the original file was implemented in Google Colab to take advantage of the free GPU \n",
    "from google.colab import drive\n",
    "drive.mount('/content/drive/')"
   ]
  },
  {
   "cell_type": "markdown",
   "metadata": {
    "id": "sf6aTmYFc6L5"
   },
   "source": [
    "### Data preprocessing"
   ]
  },
  {
   "cell_type": "code",
   "execution_count": null,
   "metadata": {
    "colab": {
     "base_uri": "https://localhost:8080/",
     "height": 344
    },
    "executionInfo": {
     "elapsed": 18385,
     "status": "ok",
     "timestamp": 1611312859054,
     "user": {
      "displayName": "Michele Bellomo",
      "photoUrl": "https://lh3.googleusercontent.com/a-/AOh14GhqEVViCWVD-iaTARN3gEA3KLZiRpDkXrCuC_Q1=s64",
      "userId": "00831375262492985479"
     },
     "user_tz": -60
    },
    "id": "DWNtEUiOnrCZ",
    "outputId": "f1859ef3-b721-4bfa-f3cc-455d3e44e505"
   },
   "outputs": [
    {
     "data": {
      "text/html": [
       "<div>\n",
       "<style scoped>\n",
       "    .dataframe tbody tr th:only-of-type {\n",
       "        vertical-align: middle;\n",
       "    }\n",
       "\n",
       "    .dataframe tbody tr th {\n",
       "        vertical-align: top;\n",
       "    }\n",
       "\n",
       "    .dataframe thead th {\n",
       "        text-align: right;\n",
       "    }\n",
       "</style>\n",
       "<table border=\"1\" class=\"dataframe\">\n",
       "  <thead>\n",
       "    <tr style=\"text-align: right;\">\n",
       "      <th></th>\n",
       "      <th>question</th>\n",
       "      <th>image_id</th>\n",
       "      <th>answer</th>\n",
       "    </tr>\n",
       "  </thead>\n",
       "  <tbody>\n",
       "    <tr>\n",
       "      <th>0</th>\n",
       "      <td>Who looks happier?</td>\n",
       "      <td>11779</td>\n",
       "      <td>man</td>\n",
       "    </tr>\n",
       "    <tr>\n",
       "      <th>1</th>\n",
       "      <td>Where is the woman sitting?</td>\n",
       "      <td>11779</td>\n",
       "      <td>blanket</td>\n",
       "    </tr>\n",
       "    <tr>\n",
       "      <th>2</th>\n",
       "      <td>Where is the man sitting?</td>\n",
       "      <td>11779</td>\n",
       "      <td>bench</td>\n",
       "    </tr>\n",
       "    <tr>\n",
       "      <th>3</th>\n",
       "      <td>Is this man hungry?</td>\n",
       "      <td>5536</td>\n",
       "      <td>yes</td>\n",
       "    </tr>\n",
       "    <tr>\n",
       "      <th>4</th>\n",
       "      <td>Who is holding the football?</td>\n",
       "      <td>16949</td>\n",
       "      <td>man</td>\n",
       "    </tr>\n",
       "  </tbody>\n",
       "</table>\n",
       "</div>"
      ],
      "text/plain": [
       "                       question image_id   answer\n",
       "0            Who looks happier?    11779      man\n",
       "1   Where is the woman sitting?    11779  blanket\n",
       "2     Where is the man sitting?    11779    bench\n",
       "3           Is this man hungry?     5536      yes\n",
       "4  Who is holding the football?    16949      man"
      ]
     },
     "execution_count": 4,
     "metadata": {
      "tags": []
     },
     "output_type": "execute_result"
    },
    {
     "data": {
      "text/html": [
       "<div>\n",
       "<style scoped>\n",
       "    .dataframe tbody tr th:only-of-type {\n",
       "        vertical-align: middle;\n",
       "    }\n",
       "\n",
       "    .dataframe tbody tr th {\n",
       "        vertical-align: top;\n",
       "    }\n",
       "\n",
       "    .dataframe thead th {\n",
       "        text-align: right;\n",
       "    }\n",
       "</style>\n",
       "<table border=\"1\" class=\"dataframe\">\n",
       "  <thead>\n",
       "    <tr style=\"text-align: right;\">\n",
       "      <th></th>\n",
       "      <th>question</th>\n",
       "      <th>image_id</th>\n",
       "      <th>answer</th>\n",
       "    </tr>\n",
       "  </thead>\n",
       "  <tbody>\n",
       "    <tr>\n",
       "      <th>count</th>\n",
       "      <td>58832</td>\n",
       "      <td>58832</td>\n",
       "      <td>58832</td>\n",
       "    </tr>\n",
       "    <tr>\n",
       "      <th>unique</th>\n",
       "      <td>34035</td>\n",
       "      <td>28744</td>\n",
       "      <td>58</td>\n",
       "    </tr>\n",
       "    <tr>\n",
       "      <th>top</th>\n",
       "      <td>What color is the rug?</td>\n",
       "      <td>24606</td>\n",
       "      <td>yes</td>\n",
       "    </tr>\n",
       "    <tr>\n",
       "      <th>freq</th>\n",
       "      <td>387</td>\n",
       "      <td>3</td>\n",
       "      <td>18386</td>\n",
       "    </tr>\n",
       "  </tbody>\n",
       "</table>\n",
       "</div>"
      ],
      "text/plain": [
       "                      question image_id answer\n",
       "count                    58832    58832  58832\n",
       "unique                   34035    28744     58\n",
       "top     What color is the rug?    24606    yes\n",
       "freq                       387        3  18386"
      ]
     },
     "execution_count": 4,
     "metadata": {
      "tags": []
     },
     "output_type": "execute_result"
    }
   ],
   "source": [
    "# load the questions\n",
    "dataset_dir = '/content/drive/My Drive/NeuralNetworks/VQA_Dataset'\n",
    "annotations_dir = os.path.join(dataset_dir, 'train_questions_annotations.json')\n",
    "annotations = pd.read_json(annotations_dir).transpose()\n",
    "annotations.reset_index(inplace=True, drop=True)\n",
    "annotations.head()\n",
    "annotations.describe()\n",
    "N = len(annotations)"
   ]
  },
  {
   "cell_type": "markdown",
   "metadata": {},
   "source": [
    "All answers consist of a single word. Therefore, I can approach the problem as a classification task, where the target labels are the answers to the various questions. I use one-hot encoding to encode the classes. "
   ]
  },
  {
   "cell_type": "code",
   "execution_count": null,
   "metadata": {
    "colab": {
     "base_uri": "https://localhost:8080/",
     "height": 514
    },
    "executionInfo": {
     "elapsed": 18277,
     "status": "ok",
     "timestamp": 1611312860512,
     "user": {
      "displayName": "Michele Bellomo",
      "photoUrl": "https://lh3.googleusercontent.com/a-/AOh14GhqEVViCWVD-iaTARN3gEA3KLZiRpDkXrCuC_Q1=s64",
      "userId": "00831375262492985479"
     },
     "user_tz": -60
    },
    "id": "kKH9gZz6cRwz",
    "outputId": "380bfbfa-6c82-4085-f6b4-121c30aea5c4"
   },
   "outputs": [
    {
     "data": {
      "text/plain": [
       "<matplotlib.axes._subplots.AxesSubplot at 0x7fdb57783cc0>"
      ]
     },
     "execution_count": 5,
     "metadata": {
      "tags": []
     },
     "output_type": "execute_result"
    },
    {
     "data": {
      "image/png": "[encoded data removed]",
      "text/plain": [
       "<Figure size 864x576 with 1 Axes>"
      ]
     },
     "metadata": {
      "needs_background": "light",
      "tags": []
     },
     "output_type": "display_data"
    }
   ],
   "source": [
    "# Classes' histograms  \n",
    "annotations[\"answer\"] = annotations[\"answer\"].astype('category')\n",
    "num_classes = annotations[\"answer\"].value_counts().count()\n",
    "\n",
    "import seaborn as sns\n",
    "import matplotlib.pyplot as plt\n",
    "\n",
    "fig, ax = plt.subplots(figsize=(12,8))\n",
    "sns.countplot(y=\"answer\", data=annotations)"
   ]
  },
  {
   "cell_type": "markdown",
   "metadata": {
    "id": "XY9hiVXncRwz"
   },
   "source": [
    "As expected, some classes are way more represented than others (e.g. \"yes\" or \"no\"). <br>For this reason I will use a stratified sampling for the training/validation set division."
   ]
  },
  {
   "cell_type": "code",
   "execution_count": null,
   "metadata": {
    "id": "shYZzJ55cRw0"
   },
   "outputs": [],
   "source": [
    "# Perform the one-hot encoding and add it to the dataset\n",
    "annotations['class_encoded'] = annotations[\"answer\"].cat.codes\n",
    "one_hot =  tf.keras.utils.to_categorical(annotations['class_encoded'])\n",
    "annotations[\"one_hot\"] = 0\n",
    "annotations[\"one_hot\"] = annotations[\"one_hot\"].astype(object)\n",
    "\n",
    "for i in range(N):\n",
    "    annotations.at[i, \"one_hot\"] = one_hot[i]\n",
    "annotations.head()"
   ]
  },
  {
   "cell_type": "markdown",
   "metadata": {
    "id": "75sNY9KBT6Zo"
   },
   "source": [
    "### GloVe Embedding"
   ]
  },
  {
   "cell_type": "code",
   "execution_count": null,
   "metadata": {
    "id": "cSwuPYf9-K0V"
   },
   "outputs": [],
   "source": [
    "from tensorflow.keras.layers.experimental.preprocessing import TextVectorization\n",
    "\n",
    "max_qs_length = 21 \n",
    "\n",
    "vectorizer = TextVectorization(max_tokens=10000, output_sequence_length=max_qs_length) \n",
    "vectorizer.adapt(annotations['question'].tolist())\n",
    "\n",
    "voc = vectorizer.get_vocabulary()\n",
    "word_index = dict(zip(voc, range(len(voc))))"
   ]
  },
  {
   "cell_type": "code",
   "execution_count": null,
   "metadata": {
    "colab": {
     "base_uri": "https://localhost:8080/"
    },
    "executionInfo": {
     "elapsed": 418504,
     "status": "ok",
     "timestamp": 1611313346845,
     "user": {
      "displayName": "Michele Bellomo",
      "photoUrl": "https://lh3.googleusercontent.com/a-/AOh14GhqEVViCWVD-iaTARN3gEA3KLZiRpDkXrCuC_Q1=s64",
      "userId": "00831375262492985479"
     },
     "user_tz": -60
    },
    "id": "OSimyhpm-3IM",
    "outputId": "8dc35a28-2662-4f40-9df7-3a9e5fae32b6"
   },
   "outputs": [
    {
     "name": "stdout",
     "output_type": "stream",
     "text": [
      "--2021-01-22 10:55:37--  http://nlp.stanford.edu/data/glove.6B.zip\n",
      "Resolving nlp.stanford.edu (nlp.stanford.edu)... 171.64.67.140\n",
      "Connecting to nlp.stanford.edu (nlp.stanford.edu)|171.64.67.140|:80... connected.\n",
      "HTTP request sent, awaiting response... 302 Found\n",
      "Location: https://nlp.stanford.edu/data/glove.6B.zip [following]\n",
      "--2021-01-22 10:55:37--  https://nlp.stanford.edu/data/glove.6B.zip\n",
      "Connecting to nlp.stanford.edu (nlp.stanford.edu)|171.64.67.140|:443... connected.\n",
      "HTTP request sent, awaiting response... 301 Moved Permanently\n",
      "Location: http://downloads.cs.stanford.edu/nlp/data/glove.6B.zip [following]\n",
      "--2021-01-22 10:55:37--  http://downloads.cs.stanford.edu/nlp/data/glove.6B.zip\n",
      "Resolving downloads.cs.stanford.edu (downloads.cs.stanford.edu)... 171.64.64.22\n",
      "Connecting to downloads.cs.stanford.edu (downloads.cs.stanford.edu)|171.64.64.22|:80... connected.\n",
      "HTTP request sent, awaiting response... 200 OK\n",
      "Length: 862182613 (822M) [application/zip]\n",
      "Saving to: ‘glove.6B.zip’\n",
      "\n",
      "glove.6B.zip        100%[===================>] 822.24M  2.10MB/s    in 6m 26s  \n",
      "\n",
      "2021-01-22 11:02:03 (2.13 MB/s) - ‘glove.6B.zip’ saved [862182613/862182613]\n",
      "\n"
     ]
    }
   ],
   "source": [
    "# load the GloVe embedding\n",
    "!wget http://nlp.stanford.edu/data/glove.6B.zip\n",
    "!unzip -q glove.6B.zip"
   ]
  },
  {
   "cell_type": "code",
   "execution_count": null,
   "metadata": {
    "colab": {
     "base_uri": "https://localhost:8080/"
    },
    "executionInfo": {
     "elapsed": 425061,
     "status": "ok",
     "timestamp": 1611313353744,
     "user": {
      "displayName": "Michele Bellomo",
      "photoUrl": "https://lh3.googleusercontent.com/a-/AOh14GhqEVViCWVD-iaTARN3gEA3KLZiRpDkXrCuC_Q1=s64",
      "userId": "00831375262492985479"
     },
     "user_tz": -60
    },
    "id": "rGTHCN53-3-l",
    "outputId": "d35078c1-ed9f-4494-ab1a-9eeafed43221"
   },
   "outputs": [
    {
     "name": "stdout",
     "output_type": "stream",
     "text": [
      "Found 400000 word vectors.\n"
     ]
    }
   ],
   "source": [
    "embeddings_index = {}\n",
    "with open('glove.6B.100d.txt') as f:\n",
    "    for line in f:\n",
    "        word, coefs = line.split(maxsplit=1)\n",
    "        coefs = np.fromstring(coefs, \"f\", sep=\" \")\n",
    "        embeddings_index[word] = coefs\n",
    "\n",
    "print(\"Found %s word vectors.\" % len(embeddings_index))"
   ]
  },
  {
   "cell_type": "code",
   "execution_count": null,
   "metadata": {
    "colab": {
     "base_uri": "https://localhost:8080/"
    },
    "executionInfo": {
     "elapsed": 417930,
     "status": "ok",
     "timestamp": 1611313353746,
     "user": {
      "displayName": "Michele Bellomo",
      "photoUrl": "https://lh3.googleusercontent.com/a-/AOh14GhqEVViCWVD-iaTARN3gEA3KLZiRpDkXrCuC_Q1=s64",
      "userId": "00831375262492985479"
     },
     "user_tz": -60
    },
    "id": "nQtWO6oP_1LN",
    "outputId": "3321e6e9-8da6-4622-f465-6b71078cf8ff"
   },
   "outputs": [
    {
     "name": "stdout",
     "output_type": "stream",
     "text": [
      "Converted 4528 words (65 misses)\n"
     ]
    }
   ],
   "source": [
    "num_tokens = len(voc) + 2\n",
    "embedding_dim = 32 \n",
    "hits = 0\n",
    "misses = 0\n",
    "\n",
    "# Prepare embedding matrix\n",
    "embedding_matrix = np.zeros((num_tokens, embedding_dim))\n",
    "for word, i in word_index.items():\n",
    "    embedding_vector = embeddings_index.get(word)\n",
    "    if embedding_vector is not None:\n",
    "        # Words not found in embedding index will be all-zeros.\n",
    "        # This includes the representation for \"padding\" and \"OOV\"\n",
    "        embedding_matrix[i] = embedding_vector\n",
    "        hits += 1\n",
    "    else:\n",
    "        misses += 1\n",
    "print(\"Converted %d words (%d misses)\" % (hits, misses))"
   ]
  },
  {
   "cell_type": "code",
   "execution_count": null,
   "metadata": {
    "id": "jaBNL9co_9Xg"
   },
   "outputs": [],
   "source": [
    "# Embedding layer to be added to the model\n",
    "from tensorflow.keras.layers import Embedding\n",
    "\n",
    "embedding_layer = Embedding(\n",
    "    num_tokens,\n",
    "    embedding_dim,\n",
    "    embeddings_initializer=tf.keras.initializers.Constant(embedding_matrix),\n",
    "    trainable=False,\n",
    ")"
   ]
  },
  {
   "cell_type": "code",
   "execution_count": null,
   "metadata": {
    "colab": {
     "base_uri": "https://localhost:8080/",
     "height": 195
    },
    "executionInfo": {
     "elapsed": 684970,
     "status": "ok",
     "timestamp": 1611313634428,
     "user": {
      "displayName": "Michele Bellomo",
      "photoUrl": "https://lh3.googleusercontent.com/a-/AOh14GhqEVViCWVD-iaTARN3gEA3KLZiRpDkXrCuC_Q1=s64",
      "userId": "00831375262492985479"
     },
     "user_tz": -60
    },
    "id": "1Nxf_uI5cRwy",
    "outputId": "b8a261dc-d1b6-4328-a901-f2c4fe27d5ff",
    "scrolled": true
   },
   "outputs": [
    {
     "data": {
      "text/html": [
       "<div>\n",
       "<style scoped>\n",
       "    .dataframe tbody tr th:only-of-type {\n",
       "        vertical-align: middle;\n",
       "    }\n",
       "\n",
       "    .dataframe tbody tr th {\n",
       "        vertical-align: top;\n",
       "    }\n",
       "\n",
       "    .dataframe thead th {\n",
       "        text-align: right;\n",
       "    }\n",
       "</style>\n",
       "<table border=\"1\" class=\"dataframe\">\n",
       "  <thead>\n",
       "    <tr style=\"text-align: right;\">\n",
       "      <th></th>\n",
       "      <th>question</th>\n",
       "      <th>image_id</th>\n",
       "      <th>answer</th>\n",
       "      <th>class_encoded</th>\n",
       "      <th>one_hot</th>\n",
       "      <th>qs_tokenized</th>\n",
       "    </tr>\n",
       "  </thead>\n",
       "  <tbody>\n",
       "    <tr>\n",
       "      <th>0</th>\n",
       "      <td>Who looks happier?</td>\n",
       "      <td>11779</td>\n",
       "      <td>man</td>\n",
       "      <td>31</td>\n",
       "      <td>[0.0, 0.0, 0.0, 0.0, 0.0, 0.0, 0.0, 0.0, 0.0, ...</td>\n",
       "      <td>[48, 804, 2059, 0, 0, 0, 0, 0, 0, 0, 0, 0, 0, ...</td>\n",
       "    </tr>\n",
       "    <tr>\n",
       "      <th>1</th>\n",
       "      <td>Where is the woman sitting?</td>\n",
       "      <td>11779</td>\n",
       "      <td>blanket</td>\n",
       "      <td>12</td>\n",
       "      <td>[0.0, 0.0, 0.0, 0.0, 0.0, 0.0, 0.0, 0.0, 0.0, ...</td>\n",
       "      <td>[25, 3, 2, 16, 21, 0, 0, 0, 0, 0, 0, 0, 0, 0, ...</td>\n",
       "    </tr>\n",
       "    <tr>\n",
       "      <th>2</th>\n",
       "      <td>Where is the man sitting?</td>\n",
       "      <td>11779</td>\n",
       "      <td>bench</td>\n",
       "      <td>8</td>\n",
       "      <td>[0.0, 0.0, 0.0, 0.0, 0.0, 0.0, 0.0, 0.0, 1.0, ...</td>\n",
       "      <td>[25, 3, 2, 15, 21, 0, 0, 0, 0, 0, 0, 0, 0, 0, ...</td>\n",
       "    </tr>\n",
       "    <tr>\n",
       "      <th>3</th>\n",
       "      <td>Is this man hungry?</td>\n",
       "      <td>5536</td>\n",
       "      <td>yes</td>\n",
       "      <td>57</td>\n",
       "      <td>[0.0, 0.0, 0.0, 0.0, 0.0, 0.0, 0.0, 0.0, 0.0, ...</td>\n",
       "      <td>[3, 22, 15, 487, 0, 0, 0, 0, 0, 0, 0, 0, 0, 0,...</td>\n",
       "    </tr>\n",
       "    <tr>\n",
       "      <th>4</th>\n",
       "      <td>Who is holding the football?</td>\n",
       "      <td>16949</td>\n",
       "      <td>man</td>\n",
       "      <td>31</td>\n",
       "      <td>[0.0, 0.0, 0.0, 0.0, 0.0, 0.0, 0.0, 0.0, 0.0, ...</td>\n",
       "      <td>[48, 3, 50, 2, 235, 0, 0, 0, 0, 0, 0, 0, 0, 0,...</td>\n",
       "    </tr>\n",
       "  </tbody>\n",
       "</table>\n",
       "</div>"
      ],
      "text/plain": [
       "                       question  ...                                       qs_tokenized\n",
       "0            Who looks happier?  ...  [48, 804, 2059, 0, 0, 0, 0, 0, 0, 0, 0, 0, 0, ...\n",
       "1   Where is the woman sitting?  ...  [25, 3, 2, 16, 21, 0, 0, 0, 0, 0, 0, 0, 0, 0, ...\n",
       "2     Where is the man sitting?  ...  [25, 3, 2, 15, 21, 0, 0, 0, 0, 0, 0, 0, 0, 0, ...\n",
       "3           Is this man hungry?  ...  [3, 22, 15, 487, 0, 0, 0, 0, 0, 0, 0, 0, 0, 0,...\n",
       "4  Who is holding the football?  ...  [48, 3, 50, 2, 235, 0, 0, 0, 0, 0, 0, 0, 0, 0,...\n",
       "\n",
       "[5 rows x 6 columns]"
      ]
     },
     "execution_count": 12,
     "metadata": {
      "tags": []
     },
     "output_type": "execute_result"
    }
   ],
   "source": [
    "# Add the embedded questions to the dataset\n",
    "annotations[\"qs_tokenized\"] = 0\n",
    "annotations[\"qs_tokenized\"] = annotations[\"qs_tokenized\"].astype(object)\n",
    "\n",
    "for i in range(N):\n",
    "    annotations.at[i, \"qs_tokenized\"] = vectorizer([annotations.at[i, \"question\"]]).numpy()[0]\n",
    "annotations.head()"
   ]
  },
  {
   "cell_type": "markdown",
   "metadata": {
    "id": "dklV3ALTcRw0"
   },
   "source": [
    "### Training/Validation splitting"
   ]
  },
  {
   "cell_type": "code",
   "execution_count": null,
   "metadata": {
    "colab": {
     "base_uri": "https://localhost:8080/",
     "height": 195
    },
    "executionInfo": {
     "elapsed": 1169,
     "status": "ok",
     "timestamp": 1611313669241,
     "user": {
      "displayName": "Michele Bellomo",
      "photoUrl": "https://lh3.googleusercontent.com/a-/AOh14GhqEVViCWVD-iaTARN3gEA3KLZiRpDkXrCuC_Q1=s64",
      "userId": "00831375262492985479"
     },
     "user_tz": -60
    },
    "id": "FmQMXsV5cRw0",
    "outputId": "6ffbc216-067d-4612-80f3-1227407c4404"
   },
   "outputs": [
    {
     "data": {
      "text/html": [
       "<div>\n",
       "<style scoped>\n",
       "    .dataframe tbody tr th:only-of-type {\n",
       "        vertical-align: middle;\n",
       "    }\n",
       "\n",
       "    .dataframe tbody tr th {\n",
       "        vertical-align: top;\n",
       "    }\n",
       "\n",
       "    .dataframe thead th {\n",
       "        text-align: right;\n",
       "    }\n",
       "</style>\n",
       "<table border=\"1\" class=\"dataframe\">\n",
       "  <thead>\n",
       "    <tr style=\"text-align: right;\">\n",
       "      <th></th>\n",
       "      <th>image_id</th>\n",
       "      <th>one_hot</th>\n",
       "      <th>qs_tokenized</th>\n",
       "    </tr>\n",
       "  </thead>\n",
       "  <tbody>\n",
       "    <tr>\n",
       "      <th>0</th>\n",
       "      <td>11779</td>\n",
       "      <td>[0.0, 0.0, 0.0, 0.0, 0.0, 0.0, 0.0, 0.0, 0.0, ...</td>\n",
       "      <td>[48, 804, 2059, 0, 0, 0, 0, 0, 0, 0, 0, 0, 0, ...</td>\n",
       "    </tr>\n",
       "    <tr>\n",
       "      <th>1</th>\n",
       "      <td>11779</td>\n",
       "      <td>[0.0, 0.0, 0.0, 0.0, 0.0, 0.0, 0.0, 0.0, 0.0, ...</td>\n",
       "      <td>[25, 3, 2, 16, 21, 0, 0, 0, 0, 0, 0, 0, 0, 0, ...</td>\n",
       "    </tr>\n",
       "    <tr>\n",
       "      <th>2</th>\n",
       "      <td>11779</td>\n",
       "      <td>[0.0, 0.0, 0.0, 0.0, 0.0, 0.0, 0.0, 0.0, 1.0, ...</td>\n",
       "      <td>[25, 3, 2, 15, 21, 0, 0, 0, 0, 0, 0, 0, 0, 0, ...</td>\n",
       "    </tr>\n",
       "    <tr>\n",
       "      <th>3</th>\n",
       "      <td>5536</td>\n",
       "      <td>[0.0, 0.0, 0.0, 0.0, 0.0, 0.0, 0.0, 0.0, 0.0, ...</td>\n",
       "      <td>[3, 22, 15, 487, 0, 0, 0, 0, 0, 0, 0, 0, 0, 0,...</td>\n",
       "    </tr>\n",
       "    <tr>\n",
       "      <th>4</th>\n",
       "      <td>16949</td>\n",
       "      <td>[0.0, 0.0, 0.0, 0.0, 0.0, 0.0, 0.0, 0.0, 0.0, ...</td>\n",
       "      <td>[48, 3, 50, 2, 235, 0, 0, 0, 0, 0, 0, 0, 0, 0,...</td>\n",
       "    </tr>\n",
       "  </tbody>\n",
       "</table>\n",
       "</div>"
      ],
      "text/plain": [
       "  image_id  ...                                       qs_tokenized\n",
       "0    11779  ...  [48, 804, 2059, 0, 0, 0, 0, 0, 0, 0, 0, 0, 0, ...\n",
       "1    11779  ...  [25, 3, 2, 16, 21, 0, 0, 0, 0, 0, 0, 0, 0, 0, ...\n",
       "2    11779  ...  [25, 3, 2, 15, 21, 0, 0, 0, 0, 0, 0, 0, 0, 0, ...\n",
       "3     5536  ...  [3, 22, 15, 487, 0, 0, 0, 0, 0, 0, 0, 0, 0, 0,...\n",
       "4    16949  ...  [48, 3, 50, 2, 235, 0, 0, 0, 0, 0, 0, 0, 0, 0,...\n",
       "\n",
       "[5 rows x 3 columns]"
      ]
     },
     "execution_count": 13,
     "metadata": {
      "tags": []
     },
     "output_type": "execute_result"
    }
   ],
   "source": [
    "df = annotations.drop(['question', 'answer', 'class_encoded'], axis=1)\n",
    "df.head()"
   ]
  },
  {
   "cell_type": "code",
   "execution_count": null,
   "metadata": {
    "id": "1PmSBDdtcRw1"
   },
   "outputs": [],
   "source": [
    "# Stratified sampling\n",
    "from sklearn.model_selection import train_test_split\n",
    "\n",
    "y = annotations['class_encoded']\n",
    "df_train, df_valid = train_test_split(df, test_size=0.25, random_state=SEED, stratify=y)"
   ]
  },
  {
   "cell_type": "markdown",
   "metadata": {
    "id": "7YAdgaRscRw1"
   },
   "source": [
    "### Costum Dataset creation to manage the images and questions flow during the training"
   ]
  },
  {
   "cell_type": "code",
   "execution_count": null,
   "metadata": {
    "id": "eiGEFLf7cRw2"
   },
   "outputs": [],
   "source": [
    "# it is necessary to modify the class \"CustomDataset\" in order to create a flow of pairs of images and questions\n",
    "# for the training (this function is not currently implemented in keras)\n",
    "\n",
    "from PIL import Image\n",
    "\n",
    "img_h = 299\n",
    "img_w = 299\n",
    "# Height and width of the original Inception ResNet architecture\n",
    "\n",
    "class CustomDataset(tf.keras.utils.Sequence):\n",
    "\n",
    "    \"\"\"\n",
    "    CustomDataset inheriting from tf.keras.utils.Sequence.\n",
    "\n",
    "    3 main methods:\n",
    "      - __init__: save dataset params like directory, filenames..\n",
    "      - __len__: return the total number of samples in the dataset\n",
    "      - __getitem__: return a sample from the dataset\n",
    "\n",
    "    Note: \n",
    "      - the custom dataset return a single sample from the dataset. Then, we use \n",
    "        a tf.data.Dataset object to group samples into batches.\n",
    "      - in this case we have a different structure of the dataset in memory. \n",
    "        We have all the images in the same folder and the training and validation splits\n",
    "        are defined in text files.\n",
    "\n",
    "    \"\"\"\n",
    "\n",
    "    def __init__(self, dataset, dataset_dir, preprocessing_function=None, out_shape=[img_h, img_w]):\n",
    "        subset_filenames = dataset['image_id'].tolist()\n",
    "        subset_tokenizedquestions = dataset['qs_tokenized'].tolist()\n",
    "        subset_classes = dataset['one_hot'].tolist()\n",
    "\n",
    "        self.dataset_dir = dataset_dir\n",
    "        self.subset_filenames = subset_filenames\n",
    "        self.subset_tokenizedquestions = subset_tokenizedquestions\n",
    "        self.subset_classes = subset_classes\n",
    "        self.preprocessing_function = preprocessing_function\n",
    "        self.out_shape = out_shape\n",
    "\n",
    "    def __len__(self):\n",
    "        return len(self.subset_filenames)\n",
    "\n",
    "    def __getitem__(self, index):\n",
    "        # Read Image\n",
    "        curr_filename = self.subset_filenames[index]\n",
    "        curr_question = self.subset_tokenizedquestions[index]\n",
    "        curr_class = self.subset_classes[index]\n",
    "        img = Image.open(os.path.join(self.dataset_dir, 'Images', curr_filename + '.png'))\n",
    "\n",
    "        # Resize image \n",
    "        img = img.resize(self.out_shape)\n",
    "        img_arr = np.array(img) \n",
    "        img_arr = img_arr[...,:3] # remove the fourth channel\n",
    "    \n",
    "        # Preprocess image\n",
    "        img_arr = self.preprocessing_function(img_arr)\n",
    "\n",
    "        return (img_arr, curr_question), curr_class"
   ]
  },
  {
   "cell_type": "markdown",
   "metadata": {},
   "source": [
    "### Convolutional Neural Network"
   ]
  },
  {
   "cell_type": "code",
   "execution_count": null,
   "metadata": {
    "colab": {
     "base_uri": "https://localhost:8080/"
    },
    "executionInfo": {
     "elapsed": 8199,
     "status": "ok",
     "timestamp": 1611313685167,
     "user": {
      "displayName": "Michele Bellomo",
      "photoUrl": "https://lh3.googleusercontent.com/a-/AOh14GhqEVViCWVD-iaTARN3gEA3KLZiRpDkXrCuC_Q1=s64",
      "userId": "00831375262492985479"
     },
     "user_tz": -60
    },
    "id": "N0tMC5QWcRw2",
    "outputId": "f5589e18-fd6d-4147-adbb-196d894e12ce"
   },
   "outputs": [
    {
     "name": "stdout",
     "output_type": "stream",
     "text": [
      "Downloading data from https://storage.googleapis.com/tensorflow/keras-applications/inception_resnet_v2/inception_resnet_v2_weights_tf_dim_ordering_tf_kernels_notop.h5\n",
      "219062272/219055592 [==============================] - 3s 0us/step\n"
     ]
    }
   ],
   "source": [
    "# Load the pretrained-architecture...\n",
    "from keras.applications.inception_resnet_v2 import preprocess_input \n",
    "base = tf.keras.applications.InceptionResNetV2(weights='imagenet', include_top=False, input_shape=(img_h, img_w, 3))\n",
    "base.trainable = False \n",
    "\n",
    "#... and give the correspondent preprocessing function as input to the CustomDataset\n",
    "dataset = CustomDataset(df_train, dataset_dir, preprocessing_function=preprocess_input)\n",
    "dataset_valid = CustomDataset(df_valid, dataset_dir, preprocessing_function=preprocess_input)"
   ]
  },
  {
   "cell_type": "code",
   "execution_count": null,
   "metadata": {
    "id": "JYORo9VRcRw2"
   },
   "outputs": [],
   "source": [
    "batch_size = 32\n",
    "\n",
    "train_dataset = tf.data.Dataset.from_generator(lambda: dataset,\n",
    "                                               output_types=((tf.float32, tf.float32), tf.float32),\n",
    "                                               output_shapes=(([img_h, img_w, 3], [max_qs_length]), [num_classes]))\n",
    "\n",
    "train_dataset = train_dataset.batch(batch_size)\n",
    "\n",
    "train_dataset = train_dataset.repeat()\n",
    "\n",
    "valid_dataset = tf.data.Dataset.from_generator(lambda: dataset_valid,\n",
    "                                               output_types=((tf.float32, tf.float32),tf.float32),\n",
    "                                               output_shapes=(([img_h, img_w, 3], [max_qs_length]), [num_classes]))\n",
    "valid_dataset = valid_dataset.batch(batch_size)\n",
    "\n",
    "valid_dataset = valid_dataset.repeat()"
   ]
  },
  {
   "cell_type": "markdown",
   "metadata": {
    "id": "Fyx28iuHT6Zp"
   },
   "source": [
    "### Model"
   ]
  },
  {
   "cell_type": "code",
   "execution_count": null,
   "metadata": {
    "id": "DvnVkQ6AVs05"
   },
   "outputs": [],
   "source": [
    "# Import Keras \n",
    "from tensorflow.keras.layers import Conv2D, MaxPooling2D, Flatten\n",
    "from tensorflow.keras.layers import Input, LSTM, Embedding, Dense\n",
    "from tensorflow.keras.models import Model, Sequential\n",
    "\n",
    "# Define CNN for Image Input\n",
    "image_input = Input(shape=(img_h, img_w, 3))\n",
    "x = base(image_input, training=False) \n",
    "encoded_image = tf.keras.layers.GlobalAveragePooling2D()(x)\n",
    "\n",
    "# Define RNN for language input\n",
    "question_input = Input(shape=(max_qs_length))\n",
    "embedded_question = embedding_layer(question_input)\n",
    "\n",
    "#two LSTM blocks for bidirectional processing of the questions\n",
    "left = LSTM(128)(embedded_question)\n",
    "right = LSTM(128, go_backwards=True)(embedded_question)\n",
    "\n",
    "conc = tf.keras.layers.Concatenate()([left_2, right_2])\n",
    "encoded_question = tf.keras.layers.Dense(128, activation='relu')(conc)\n",
    "\n",
    "# Combine CNN and RNN to create the final model\n",
    "merged = tf.keras.layers.concatenate([encoded_question, encoded_image])\n",
    "output = Dense(num_classes, activation='softmax')(merged)\n",
    "model = Model(inputs=[image_input, question_input], outputs=output)"
   ]
  },
  {
   "cell_type": "code",
   "execution_count": null,
   "metadata": {
    "colab": {
     "base_uri": "https://localhost:8080/"
    },
    "executionInfo": {
     "elapsed": 539,
     "status": "ok",
     "timestamp": 1611313718214,
     "user": {
      "displayName": "Michele Bellomo",
      "photoUrl": "https://lh3.googleusercontent.com/a-/AOh14GhqEVViCWVD-iaTARN3gEA3KLZiRpDkXrCuC_Q1=s64",
      "userId": "00831375262492985479"
     },
     "user_tz": -60
    },
    "id": "CBGKVJNYT6Zp",
    "outputId": "b90e587c-dc01-4885-dfb1-9ddd8387f862"
   },
   "outputs": [
    {
     "name": "stdout",
     "output_type": "stream",
     "text": [
      "Model: \"model\"\n",
      "__________________________________________________________________________________________________\n",
      "Layer (type)                    Output Shape         Param #     Connected to                     \n",
      "==================================================================================================\n",
      "input_3 (InputLayer)            [(None, 21)]         0                                            \n",
      "__________________________________________________________________________________________________\n",
      "input_2 (InputLayer)            [(None, 299, 299, 3) 0                                            \n",
      "__________________________________________________________________________________________________\n",
      "embedding (Embedding)           (None, 21, 100)      459500      input_3[0][0]                    \n",
      "__________________________________________________________________________________________________\n",
      "inception_resnet_v2 (Functional (None, 8, 8, 1536)   54336736    input_2[0][0]                    \n",
      "__________________________________________________________________________________________________\n",
      "lstm (LSTM)                     (None, 256)          365568      embedding[0][0]                  \n",
      "__________________________________________________________________________________________________\n",
      "global_average_pooling2d (Globa (None, 1536)         0           inception_resnet_v2[0][0]        \n",
      "__________________________________________________________________________________________________\n",
      "concatenate (Concatenate)       (None, 1792)         0           lstm[0][0]                       \n",
      "                                                                 global_average_pooling2d[0][0]   \n",
      "__________________________________________________________________________________________________\n",
      "dense (Dense)                   (None, 58)           103994      concatenate[0][0]                \n",
      "==================================================================================================\n",
      "Total params: 55,265,798\n",
      "Trainable params: 469,562\n",
      "Non-trainable params: 54,796,236\n",
      "__________________________________________________________________________________________________\n"
     ]
    }
   ],
   "source": [
    "model.summary()"
   ]
  },
  {
   "cell_type": "markdown",
   "metadata": {
    "id": "o4Lw7k0pT6Zp"
   },
   "source": [
    "## Training"
   ]
  },
  {
   "cell_type": "code",
   "execution_count": null,
   "metadata": {
    "id": "E_ihm4kvT6Zp"
   },
   "outputs": [],
   "source": [
    "# Optimization params\n",
    "# -------------------\n",
    "\n",
    "# learning rate\n",
    "lr = 1e-3 \n",
    "optimizer = tf.keras.optimizers.Adam(learning_rate=lr)\n",
    "# -------------------\n",
    "\n",
    "# Validation metrics\n",
    "# ------------------\n",
    "\n",
    "metrics = ['accuracy']\n",
    "# ------------------\n",
    "\n",
    "# Compile Model\n",
    "model.compile(optimizer=optimizer, loss='categorical_crossentropy', metrics=metrics)"
   ]
  },
  {
   "cell_type": "code",
   "execution_count": null,
   "metadata": {
    "id": "A9E1cbju78Iz"
   },
   "outputs": [],
   "source": [
    "import os\n",
    "\n",
    "cwd = os.getcwd()\n",
    "\n",
    "exps_dir = os.path.join('/content/drive/My Drive/NeuralNetworks/', 'classification_experiments')\n",
    "if not os.path.exists(exps_dir):\n",
    "    os.makedirs(exps_dir)\n",
    "\n",
    "model_name = 'InceptionResNet+Glove_base'\n",
    "\n",
    "exp_dir = os.path.join(exps_dir, model_name)\n",
    "if not os.path.exists(exp_dir):\n",
    "    os.makedirs(exp_dir)\n",
    "    \n",
    "callbacks = []\n",
    "\n",
    "# Model checkpoint\n",
    "# ----------------\n",
    "ckpt_dir = os.path.join(exp_dir, 'ckpts')\n",
    "if not os.path.exists(ckpt_dir):\n",
    "    os.makedirs(ckpt_dir)\n",
    "\n",
    "ckpt_callback = tf.keras.callbacks.ModelCheckpoint(filepath=os.path.join(ckpt_dir, 'cp_{epoch:02d}.ckpt'), \n",
    "                                                   save_weights_only=True)  \n",
    "\n",
    "callbacks.append(ckpt_callback)\n",
    "\n",
    "# Visualize Learning on Tensorboard\n",
    "# ---------------------------------\n",
    "tb_dir = os.path.join(exp_dir, 'tb_logs')\n",
    "if not os.path.exists(tb_dir):\n",
    "    os.makedirs(tb_dir)\n",
    "    \n",
    "# By default shows losses and metrics for both training and validation\n",
    "tb_callback = tf.keras.callbacks.TensorBoard(log_dir=tb_dir,\n",
    "                                             profile_batch=0,\n",
    "                                             histogram_freq=1)  # if 1 shows weights histograms\n",
    "callbacks.append(tb_callback)\n",
    "\n",
    "# Early Stopping\n",
    "# --------------\n",
    "early_stop = True\n",
    "if early_stop:\n",
    "    es_callback = tf.keras.callbacks.EarlyStopping(monitor='val_loss', patience=1)\n",
    "    callbacks.append(es_callback)"
   ]
  },
  {
   "cell_type": "markdown",
   "metadata": {},
   "source": [
    "### Transfer Learning\n",
    "As suggested in Keras documentation, I do a first training keeping the base freezed, and then i proceed with the final fine tuning"
   ]
  },
  {
   "cell_type": "code",
   "execution_count": null,
   "metadata": {
    "colab": {
     "base_uri": "https://localhost:8080/"
    },
    "executionInfo": {
     "elapsed": 4957643,
     "status": "ok",
     "timestamp": 1611328805320,
     "user": {
      "displayName": "Michele Bellomo",
      "photoUrl": "https://lh3.googleusercontent.com/a-/AOh14GhqEVViCWVD-iaTARN3gEA3KLZiRpDkXrCuC_Q1=s64",
      "userId": "00831375262492985479"
     },
     "user_tz": -60
    },
    "id": "1U8piETzcQr5",
    "outputId": "b4404e5a-26bb-47e8-f443-00715cb74406"
   },
   "outputs": [
    {
     "name": "stdout",
     "output_type": "stream",
     "text": [
      "Epoch 1/3\n",
      "1378/1378 [==============================] - 12287s 9s/step - loss: 1.9953 - accuracy: 0.3722 - val_loss: 1.4516 - val_accuracy: 0.4522\n",
      "Epoch 2/3\n",
      "1379/1378 [==============================] - ETA: 0s - loss: 1.4524 - accuracy: 0.4355Epoch 3/3\n",
      "1378/1378 [==============================] - 1252s 908ms/step - loss: 1.3141 - accuracy: 0.4771 - val_loss: 1.2755 - val_accuracy: 0.5045\n"
     ]
    },
    {
     "data": {
      "text/plain": [
       "<tensorflow.python.keras.callbacks.History at 0x7fdb9aad92e8>"
      ]
     },
     "execution_count": 25,
     "metadata": {
      "tags": []
     },
     "output_type": "execute_result"
    }
   ],
   "source": [
    "# The first training with the freezed base\n",
    "model.fit(x=train_dataset,\n",
    "          epochs=100, \n",
    "          steps_per_epoch=len(dataset)/batch_size,\n",
    "          validation_data=valid_dataset,\n",
    "          validation_steps=len(dataset_valid)/batch_size,\n",
    "          callbacks=callbacks)"
   ]
  },
  {
   "cell_type": "code",
   "execution_count": null,
   "metadata": {
    "colab": {
     "base_uri": "https://localhost:8080/"
    },
    "executionInfo": {
     "elapsed": 90450,
     "status": "ok",
     "timestamp": 1611329656204,
     "user": {
      "displayName": "Michele Bellomo",
      "photoUrl": "https://lh3.googleusercontent.com/a-/AOh14GhqEVViCWVD-iaTARN3gEA3KLZiRpDkXrCuC_Q1=s64",
      "userId": "00831375262492985479"
     },
     "user_tz": -60
    },
    "id": "cGQWN2EabTwe",
    "outputId": "ca3298f0-2356-4784-9c6c-7404072b993a"
   },
   "outputs": [
    {
     "name": "stderr",
     "output_type": "stream",
     "text": [
      "WARNING:absl:Found untraced functions such as lstm_cell_layer_call_and_return_conditional_losses, lstm_cell_layer_call_fn, lstm_cell_layer_call_fn, lstm_cell_layer_call_and_return_conditional_losses, lstm_cell_layer_call_and_return_conditional_losses while saving (showing 5 of 5). These functions will not be directly callable after loading.\n",
      "WARNING:absl:Found untraced functions such as lstm_cell_layer_call_and_return_conditional_losses, lstm_cell_layer_call_fn, lstm_cell_layer_call_fn, lstm_cell_layer_call_and_return_conditional_losses, lstm_cell_layer_call_and_return_conditional_losses while saving (showing 5 of 5). These functions will not be directly callable after loading.\n"
     ]
    },
    {
     "name": "stdout",
     "output_type": "stream",
     "text": [
      "INFO:tensorflow:Assets written to: /content/drive/My Drive/MyNeuralNetworks/InceptionResnet+GLoVe_base/assets\n"
     ]
    },
    {
     "name": "stderr",
     "output_type": "stream",
     "text": [
      "INFO:tensorflow:Assets written to: /content/drive/My Drive/MyNeuralNetworks/InceptionResnet+GLoVe_base/assets\n"
     ]
    }
   ],
   "source": [
    "model.save('/content/drive/My Drive/NeuralNetworks/InceptionResnet+GLoVe_base')"
   ]
  },
  {
   "cell_type": "code",
   "execution_count": null,
   "metadata": {
    "colab": {
     "base_uri": "https://localhost:8080/"
    },
    "executionInfo": {
     "elapsed": 540,
     "status": "ok",
     "timestamp": 1611332725823,
     "user": {
      "displayName": "Michele Bellomo",
      "photoUrl": "https://lh3.googleusercontent.com/a-/AOh14GhqEVViCWVD-iaTARN3gEA3KLZiRpDkXrCuC_Q1=s64",
      "userId": "00831375262492985479"
     },
     "user_tz": -60
    },
    "id": "CPACXZdCNEVF",
    "outputId": "137e20f7-ee5c-4bd7-bce3-8a49e714b3bb"
   },
   "outputs": [
    {
     "name": "stdout",
     "output_type": "stream",
     "text": [
      "Model: \"model\"\n",
      "__________________________________________________________________________________________________\n",
      "Layer (type)                    Output Shape         Param #     Connected to                     \n",
      "==================================================================================================\n",
      "input_3 (InputLayer)            [(None, 21)]         0                                            \n",
      "__________________________________________________________________________________________________\n",
      "input_2 (InputLayer)            [(None, 299, 299, 3) 0                                            \n",
      "__________________________________________________________________________________________________\n",
      "embedding (Embedding)           (None, 21, 100)      459500      input_3[0][0]                    \n",
      "__________________________________________________________________________________________________\n",
      "inception_resnet_v2 (Functional (None, 8, 8, 1536)   54336736    input_2[0][0]                    \n",
      "__________________________________________________________________________________________________\n",
      "lstm (LSTM)                     (None, 256)          365568      embedding[0][0]                  \n",
      "__________________________________________________________________________________________________\n",
      "global_average_pooling2d (Globa (None, 1536)         0           inception_resnet_v2[0][0]        \n",
      "__________________________________________________________________________________________________\n",
      "concatenate (Concatenate)       (None, 1792)         0           lstm[0][0]                       \n",
      "                                                                 global_average_pooling2d[0][0]   \n",
      "__________________________________________________________________________________________________\n",
      "dense (Dense)                   (None, 58)           103994      concatenate[0][0]                \n",
      "==================================================================================================\n",
      "Total params: 55,265,798\n",
      "Trainable params: 7,731,834\n",
      "Non-trainable params: 47,533,964\n",
      "__________________________________________________________________________________________________\n"
     ]
    }
   ],
   "source": [
    "# We perform fine tuning\n",
    "# ------------\n",
    "base.trainable = True\n",
    "unfreeze=False\n",
    "for layer in base.layers:\n",
    "  layer.trainable=False\n",
    "  if unfreeze and not (isinstance(layer, tf.keras.layers.BatchNormalization)):\n",
    "    layer.trainable=True\n",
    "  if layer.name=='block8_8_ac':\n",
    "    unfreeze=True\n",
    "\n",
    "model.compile(loss='categorical_crossentropy', metrics=metrics, optimizer=tf.keras.optimizers.Adam(1e-4))  # Uso un learning rate più basso\n",
    "model.summary()"
   ]
  },
  {
   "cell_type": "code",
   "execution_count": null,
   "metadata": {
    "id": "wIjBbBzPEIq4"
   },
   "outputs": [],
   "source": [
    "import os\n",
    "\n",
    "cwd = os.getcwd()\n",
    "\n",
    "exps_dir = os.path.join('/content/drive/My Drive/NeuralNetworks/', 'classification_experiments')\n",
    "if not os.path.exists(exps_dir):\n",
    "    os.makedirs(exps_dir)\n",
    "\n",
    "model_name = 'InceptionResNet+Glove'\n",
    "\n",
    "exp_dir = os.path.join(exps_dir, model_name)\n",
    "if not os.path.exists(exp_dir):\n",
    "    os.makedirs(exp_dir)\n",
    "    \n",
    "callbacks = []\n",
    "\n",
    "# Model checkpoint\n",
    "# ----------------\n",
    "ckpt_dir = os.path.join(exp_dir, 'ckpts')\n",
    "if not os.path.exists(ckpt_dir):\n",
    "    os.makedirs(ckpt_dir)\n",
    "\n",
    "ckpt_callback = tf.keras.callbacks.ModelCheckpoint(filepath=os.path.join(ckpt_dir, 'cp_{epoch:02d}.ckpt'), \n",
    "                                                   save_weights_only=True)  \n",
    "\n",
    "callbacks.append(ckpt_callback)\n",
    "\n",
    "# Visualize Learning on Tensorboard\n",
    "# ---------------------------------\n",
    "tb_dir = os.path.join(exp_dir, 'tb_logs')\n",
    "if not os.path.exists(tb_dir):\n",
    "    os.makedirs(tb_dir)\n",
    "    \n",
    "# By default shows losses and metrics for both training and validation\n",
    "tb_callback = tf.keras.callbacks.TensorBoard(log_dir=tb_dir,\n",
    "                                             profile_batch=0,\n",
    "                                             histogram_freq=1)  # if 1 shows weights histograms\n",
    "callbacks.append(tb_callback)\n",
    "\n",
    "# Early Stopping\n",
    "# --------------\n",
    "early_stop = True\n",
    "if early_stop:\n",
    "    es_callback = tf.keras.callbacks.EarlyStopping(monitor='val_loss', patience=5)\n",
    "    callbacks.append(es_callback)"
   ]
  },
  {
   "cell_type": "code",
   "execution_count": null,
   "metadata": {
    "id": "Ha0XA_nYvDlN"
   },
   "outputs": [],
   "source": [
    "model.fit(x=train_dataset,\n",
    "          epochs=100, \n",
    "          steps_per_epoch=len(dataset)/batch_size,\n",
    "          validation_data=valid_dataset,\n",
    "          validation_steps=len(dataset_valid)/batch_size,\n",
    "          callbacks=callbacks)"
   ]
  }
 ],
 "metadata": {
  "accelerator": "GPU",
  "colab": {
   "collapsed_sections": [],
   "name": "VQA_InceptionResNet+GLoVe_bidirectional.ipynb",
   "provenance": []
  },
  "kernelspec": {
   "display_name": "Python 3 (ipykernel)",
   "language": "python",
   "name": "python3"
  },
  "language_info": {
   "codemirror_mode": {
    "name": "ipython",
    "version": 3
   },
   "file_extension": ".py",
   "mimetype": "text/x-python",
   "name": "python",
   "nbconvert_exporter": "python",
   "pygments_lexer": "ipython3",
   "version": "3.9.7"
  }
 },
 "nbformat": 4,
 "nbformat_minor": 1
}
